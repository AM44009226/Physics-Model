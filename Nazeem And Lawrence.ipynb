{
 "cells": [
  {
   "cell_type": "code",
   "execution_count": 1,
   "metadata": {
    "collapsed": true
   },
   "outputs": [],
   "source": [
    "%matplotlib inline"
   ]
  },
  {
   "cell_type": "markdown",
   "metadata": {},
   "source": [
    "# Modeling Static Friction"
   ]
  },
  {
   "cell_type": "markdown",
   "metadata": {},
   "source": [
    "# Introduction"
   ]
  },
  {
   "cell_type": "markdown",
   "metadata": {},
   "source": [
    "This experiment will find out the amount of force needed to pull different weights. It will help find how Friction is applied to an object. Friction is the resistance an object in motion on a surface will encounter. Static Friction is the force that matches and goes against an applied force on a given object. "
   ]
  },
  {
   "cell_type": "markdown",
   "metadata": {},
   "source": [
    "# Procedure"
   ]
  },
  {
   "cell_type": "markdown",
   "metadata": {},
   "source": [
    "Gather the weighted plates (100g, 200g, 300g, 400g, 500g) and the empty box to hold the weights\n",
    "Grab the empty crate with the hook and place the weights in it and place it on an aluminum ramp on a flat surface. Use the Spring scale to measure the amount of Newtons required to pull each crate with the plates. In order to measure the Static Friction, pull the crate with the spring scale until it budges and measure the initial force that was used for the crate to budge. Record the force needed for each respective weight.\n",
    "After gatherinhg all the data on the weights, place the ramp at an incline and repeat the process of pulling the crate with the same weights.\n"
   ]
  },
  {
   "cell_type": "markdown",
   "metadata": {},
   "source": [
    "## $$ Horizontal $$\n",
    "|Weights(g) |Force (Newtons)  |\n",
    "|---|---|\n",
    "|0     |0.7  |\n",
    "|100   |0.95 |\n",
    "|200   |1.4  |\n",
    "|300   |1.8  |\n",
    "|400   |2.25 |\n",
    "|500   |2.45 |"
   ]
  },
  {
   "cell_type": "markdown",
   "metadata": {},
   "source": [
    "## $$ Ramp $$\n",
    "|Weights(g)  |Force (Newtons)   |\n",
    "|---|---|\n",
    "|0     |1.25  |\n",
    "|100   |1.8  |\n",
    "|200   |2.45  |\n",
    "|300   |3.0  |\n",
    "|400   |3.9 |\n",
    "|500   |4.4 |"
   ]
  },
  {
   "cell_type": "code",
   "execution_count": 2,
   "metadata": {
    "collapsed": false
   },
   "outputs": [
    {
     "data": {
      "image/png": "[encoded data removed]",
      "text/plain": [
       "<matplotlib.figure.Figure at 0x6e80278>"
      ]
     },
     "metadata": {},
     "output_type": "display_data"
    }
   ],
   "source": [
    "import matplotlib.pyplot as plt\n",
    "import numpy as np\n",
    "from scipy.optimize import curve_fit\n",
    "\n",
    "Weight = np.array([0, 100, 200, 300, 400, 500])\n",
    "Force = np.array([0.7, .95, 1.4, 1.8, 2.25, 2.45])\n",
    "xx = np.linspace(0.0,500,30)\n",
    "\n",
    "def lin_model(x,a,b):\n",
    "    return a*x + b\n",
    "\n",
    "a,b = curve_fit(lin_model, Weight, Force)[0]\n",
    "print=(a,b)\n",
    "\n",
    "plt.plot(Weight, Force, '.')\n",
    "plt.plot(xx, lin_model(xx, a, b))\n",
    "plt.xlabel('Weights (g)')\n",
    "plt.ylabel('Force (Newtons)')\n",
    "plt.title('Static Friction Model')\n",
    "plt.show()"
   ]
  },
  {
   "cell_type": "code",
   "execution_count": 3,
   "metadata": {
    "collapsed": false
   },
   "outputs": [
    {
     "data": {
      "text/plain": [
       "(0.0037285714263982639, 0.65952380952316247)"
      ]
     },
     "execution_count": 3,
     "metadata": {},
     "output_type": "execute_result"
    }
   ],
   "source": [
    "(a, b)"
   ]
  },
  {
   "cell_type": "code",
   "execution_count": null,
   "metadata": {
    "collapsed": true
   },
   "outputs": [],
   "source": []
  },
  {
   "cell_type": "markdown",
   "metadata": {},
   "source": [
    "# Results and Observation"
   ]
  },
  {
   "cell_type": "markdown",
   "metadata": {
    "collapsed": false
   },
   "source": [
    "During the first set of procedures when we placed the ramp on a surface, we saw that the amount of force increased as the weights increased. On the incline, the amount of force needed to pull each weight was higher than the data on the flat surface."
   ]
  }
 ],
 "metadata": {
  "kernelspec": {
   "display_name": "Python 3",
   "language": "python",
   "name": "python3"
  },
  "language_info": {
   "codemirror_mode": {
    "name": "ipython",
    "version": 3
   },
   "file_extension": ".py",
   "mimetype": "text/x-python",
   "name": "python",
   "nbconvert_exporter": "python",
   "pygments_lexer": "ipython3",
   "version": "3.4.4"
  }
 },
 "nbformat": 4,
 "nbformat_minor": 0
}
